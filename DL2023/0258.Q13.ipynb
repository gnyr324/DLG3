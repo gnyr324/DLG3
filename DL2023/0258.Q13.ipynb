{
  "nbformat": 4,
  "nbformat_minor": 0,
  "metadata": {
    "colab": {
      "provenance": [],
      "include_colab_link": true
    },
    "kernelspec": {
      "name": "python3",
      "display_name": "Python 3"
    },
    "language_info": {
      "name": "python"
    }
  },
  "cells": [
    {
      "cell_type": "markdown",
      "metadata": {
        "id": "view-in-github",
        "colab_type": "text"
      },
      "source": [
        "<a href=\"https://colab.research.google.com/github/2023080258/DLG3/blob/main/DL2023/0258.Q13.ipynb\" target=\"_parent\"><img src=\"https://colab.research.google.com/assets/colab-badge.svg\" alt=\"Open In Colab\"/></a>"
      ]
    },
    {
      "cell_type": "markdown",
      "source": [
        "Q13. Create a list called numbers. Using the random.randint() function, add five random integers to\n",
        "it. Then, print the list."
      ],
      "metadata": {
        "id": "OjJhTj_19Y9A"
      }
    },
    {
      "cell_type": "code",
      "source": [
        "numbers = []"
      ],
      "metadata": {
        "id": "MUpG7f-IqtsE"
      },
      "execution_count": 16,
      "outputs": []
    },
    {
      "cell_type": "code",
      "source": [
        "import random"
      ],
      "metadata": {
        "id": "wouVkJlyq2Ko"
      },
      "execution_count": 17,
      "outputs": []
    },
    {
      "cell_type": "code",
      "source": [
        "for i in range(5):\n",
        " n =  random.randint(0,10)\n",
        " numbers.append(n)\n",
        "\n",
        "\n",
        "print(numbers)\n"
      ],
      "metadata": {
        "id": "HHjWgCd4q4lA",
        "outputId": "0a1bcad5-b60b-4b05-83bf-324cf7a23ba6",
        "colab": {
          "base_uri": "https://localhost:8080/"
        }
      },
      "execution_count": 19,
      "outputs": [
        {
          "output_type": "stream",
          "name": "stdout",
          "text": [
            "[5, 1, 2, 7, 5, 2, 5, 3, 7, 3]\n"
          ]
        }
      ]
    }
  ]
}